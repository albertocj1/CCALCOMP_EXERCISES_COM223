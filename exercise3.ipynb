{
  "cells": [
    {
      "cell_type": "code",
      "execution_count": 4,
      "metadata": {
        "id": "ABAdD_ngwFRg"
      },
      "outputs": [],
      "source": [
        "def merge(arr, l, m, r):\n",
        "\tn1 = m - l + 1\n",
        "\tn2 = r - m\n",
        "\n",
        "\t# create temp arrays\n",
        "\tL = [0] * (n1)\n",
        "\tR = [0] * (n2)\n",
        "\n",
        "\t# Copy data to temp arrays L[] and R[]\n",
        "\tfor i in range(0, n1):\n",
        "\t\tL[i] = arr[l + i]\n",
        "\n",
        "\tfor j in range(0, n2):\n",
        "\t\tR[j] = arr[m + 1 + j]\n",
        "\n",
        "\t# Merge the temp arrays back into arr[l..r]\n",
        "\ti = 0\t # Initial index of first subarray\n",
        "\tj = 0\t # Initial index of second subarray\n",
        "\tk = l\t # Initial index of merged subarray\n",
        "\n",
        "\twhile i < n1 and j < n2:\n",
        "\t\tif L[i] <= R[j]:\n",
        "\t\t\tarr[k] = L[i]\n",
        "\t\t\ti += 1\n",
        "\t\telse:\n",
        "\t\t\tarr[k] = R[j]\n",
        "\t\t\tj += 1\n",
        "\t\tk += 1\n",
        "\n",
        "\t# Copy the remaining elements of L[], if there\n",
        "\t# are any\n",
        "\twhile i < n1:\n",
        "\t\tarr[k] = L[i]\n",
        "\t\ti += 1\n",
        "\t\tk += 1\n",
        "\n",
        "\t# Copy the remaining elements of R[], if there\n",
        "\t# are any\n",
        "\twhile j < n2:\n",
        "\t\tarr[k] = R[j]\n",
        "\t\tj += 1\n",
        "\t\tk += 1"
      ]
    },
    {
      "cell_type": "code",
      "execution_count": 5,
      "metadata": {},
      "outputs": [],
      "source": [
        "def mergeSort(arr, l, r):\n",
        "\tif l < r:\n",
        "\n",
        "\t\t# Same as (l+r)//2, but avoids overflow for\n",
        "\t\t# large l and h\n",
        "\t\tm = l+(r-l)//2\n",
        "\n",
        "\t\t# Sort first and second halves\n",
        "\t\tmergeSort(arr, l, m)\n",
        "\t\tmergeSort(arr, m+1, r)\n",
        "\t\tmerge(arr, l, m, r)"
      ]
    },
    {
      "cell_type": "code",
      "execution_count": 6,
      "metadata": {},
      "outputs": [
        {
          "name": "stdout",
          "output_type": "stream",
          "text": [
            "Given array is\n",
            "12 11 13 5 6 7 \n",
            "\n",
            "Sorted array is\n",
            "5 6 7 11 12 13 "
          ]
        }
      ],
      "source": [
        "# Driver code to test above\n",
        "arr = [12, 11, 13, 5, 6, 7]\n",
        "n = len(arr)\n",
        "print(\"Given array is\")\n",
        "for i in range(n):\n",
        "\tprint(\"%d\" % arr[i],end=\" \")\n",
        "\n",
        "mergeSort(arr, 0, n-1)\n",
        "print(\"\\n\\nSorted array is\")\n",
        "for i in range(n):\n",
        "\tprint(\"%d\" % arr[i],end=\" \")"
      ]
    },
    {
      "cell_type": "markdown",
      "metadata": {},
      "source": [
        "## Questions"
      ]
    },
    {
      "cell_type": "markdown",
      "metadata": {},
      "source": [
        "1. Use the recursion tree method to show that the time complexity of the merge-sort algorithm is $ O(n *logn) $\n",
        "\n",
        "Ans: The Merge sort algorithm consists of two main operations: dividing the array into subarrays and merging the sorted subarrays.\n",
        "\n",
        "Recursion Tree Method:\n",
        "T(n) = 2T (n/2) + O(n)\n",
        "\n",
        "Level 0: The entire array of n = O(n)\n",
        "Level 1: Two subarrays of n/2 each = O(n)\n",
        "Level 2: Four subarrays of n/4 each = O(n)\n",
        "Level k: 2^k subarrays of n/2^k each = O(n)\n",
        "\n",
        "The depth of the recursion tree is log2n, as the array is repeatedly divided by 2 until it reach the array size of 1. At each level the total time taken is O(n).\n",
        "\n",
        "Therefore, the total time complexity is the sum of the total work done at all levels of the Recursion Tree:\n",
        "\n",
        "$T(n) = O(n) + O(n) + ... + O(n) (log2n times) =  O(n *logn) $"
      ]
    },
    {
      "cell_type": "markdown",
      "metadata": {},
      "source": [
        "2. Use the substitution method to show that the time complexity of the merge-sort algorithm is $ O(n * logn) $\n",
        "\n",
        "Ans: Using the substitution method involves guessing a solution for the recurrence relation and then using mathematical induction to prove it correct.\n",
        "\n",
        "We can write the recurrence relation for merge sort as:\n",
        "\n",
        "$T(n) = 2T (n/2) + cn$\n",
        "for some constant c1.\n",
        "\n",
        "Base Case:\n",
        "\n",
        "$T(1) = O(1)\n",
        "\n",
        "Inductive Step:\n",
        "Asumming that the recurrence holds for all k < n:\n",
        "\n",
        "$T(n/2) < c1 n/2 log (n/2)$\n",
        "\n",
        "We need to show that $T(n) <= c1n(logn)$:\n",
        "\n",
        "$ T(n) = 2T (n/2) + cn $\n",
        "\n",
        "$<= 2 (c1(n/2) logn(n/2)) + cn$\n",
        "\n",
        "$ = c1n log(n/2) + cn\n",
        "\n",
        "$ = c1n (log n - log 2) + cn\n",
        "\n",
        "$ = c1nlog n - c1n + cn$\n",
        "\n",
        "$ = c1nlog n + (c - c1)n $\n",
        "\n",
        "Hence by induction, the time complexity $T(n) = O(nlog n)$ is proven as the time complexity of merge sort.\n",
        "\n",
        "\n",
        "\n",
        "\n"
      ]
    },
    {
      "cell_type": "markdown",
      "metadata": {},
      "source": []
    }
  ],
  "metadata": {
    "colab": {
      "include_colab_link": true,
      "provenance": []
    },
    "kernelspec": {
      "display_name": "base",
      "language": "python",
      "name": "python3"
    },
    "language_info": {
      "codemirror_mode": {
        "name": "ipython",
        "version": 3
      },
      "file_extension": ".py",
      "mimetype": "text/x-python",
      "name": "python",
      "nbconvert_exporter": "python",
      "pygments_lexer": "ipython3",
      "version": "3.9.13"
    }
  },
  "nbformat": 4,
  "nbformat_minor": 0
}
